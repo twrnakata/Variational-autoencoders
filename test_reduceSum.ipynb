{
 "cells": [
  {
   "cell_type": "code",
   "execution_count": 41,
   "metadata": {},
   "outputs": [
    {
     "data": {
      "text/plain": [
       "'\\nหาผลรวมจากแกน axis\\ntf.math.reduce_sum(\\n    input_tensor, axis=None, keepdims=False, name=None\\n)\\n'"
      ]
     },
     "execution_count": 41,
     "metadata": {},
     "output_type": "execute_result"
    }
   ],
   "source": [
    "\"\"\"\n",
    "หาผลรวมจากแกน axis\n",
    "tf.math.reduce_sum(\n",
    "    input_tensor, axis=None, keepdims=False, name=None\n",
    ")\n",
    "\"\"\""
   ]
  },
  {
   "cell_type": "code",
   "execution_count": 42,
   "metadata": {},
   "outputs": [],
   "source": [
    "import tensorflow as tf"
   ]
  },
  {
   "cell_type": "code",
   "execution_count": 43,
   "metadata": {},
   "outputs": [
    {
     "data": {
      "text/plain": [
       "6"
      ]
     },
     "execution_count": 43,
     "metadata": {},
     "output_type": "execute_result"
    }
   ],
   "source": [
    "# x has a shape of (2, 3) (two rows and three columns):\n",
    "x = tf.constant([[1, 1, 1], [1, 1, 1]])\n",
    "x.numpy()\n",
    "\"\"\"\"\n",
    "array([[1, 1, 1],\n",
    "       [1, 1, 1]], dtype=int32)\n",
    "\"\"\"\n",
    "# sum all the elements\n",
    "# 1 + 1 + 1 + 1 + 1+ 1 = 6\n",
    "tf.reduce_sum(x).numpy()\n"
   ]
  },
  {
   "cell_type": "code",
   "execution_count": 44,
   "metadata": {},
   "outputs": [
    {
     "name": "stdout",
     "output_type": "stream",
     "text": [
      "tf.Tensor(\n",
      "[[1 1 1]\n",
      " [1 1 1]], shape=(2, 3), dtype=int32)\n"
     ]
    },
    {
     "data": {
      "text/plain": [
       "array([2, 2, 2])"
      ]
     },
     "execution_count": 44,
     "metadata": {},
     "output_type": "execute_result"
    }
   ],
   "source": [
    "# reduce along the first dimension\n",
    "# the result is [1, 1, 1] + [1, 1, 1] = [2, 2, 2]\n",
    "print(x)\n",
    "tf.reduce_sum(x, 0).numpy()\n",
    "# array([2, 2, 2], dtype=int32)\n"
   ]
  },
  {
   "cell_type": "code",
   "execution_count": 45,
   "metadata": {},
   "outputs": [
    {
     "name": "stdout",
     "output_type": "stream",
     "text": [
      "tf.Tensor(\n",
      "[[1 1 1]\n",
      " [1 1 1]], shape=(2, 3), dtype=int32)\n"
     ]
    },
    {
     "data": {
      "text/plain": [
       "array([3, 3])"
      ]
     },
     "execution_count": 45,
     "metadata": {},
     "output_type": "execute_result"
    }
   ],
   "source": [
    "# reduce along the second dimension\n",
    "# the result is [1, 1] + [1, 1] + [1, 1] = [3, 3]\n",
    "print(x)\n",
    "tf.reduce_sum(x, 1).numpy()\n"
   ]
  },
  {
   "cell_type": "code",
   "execution_count": 46,
   "metadata": {},
   "outputs": [
    {
     "name": "stdout",
     "output_type": "stream",
     "text": [
      "tf.Tensor(\n",
      "[[1 1 1]\n",
      " [1 1 1]], shape=(2, 3), dtype=int32)\n"
     ]
    },
    {
     "data": {
      "text/plain": [
       "array([[3],\n",
       "       [3]])"
      ]
     },
     "execution_count": 46,
     "metadata": {},
     "output_type": "execute_result"
    }
   ],
   "source": [
    "# keep the original dimensions\n",
    "print(x)\n",
    "tf.reduce_sum(x, 1, keepdims=True).numpy()\n",
    "\n"
   ]
  },
  {
   "cell_type": "code",
   "execution_count": 47,
   "metadata": {},
   "outputs": [
    {
     "name": "stdout",
     "output_type": "stream",
     "text": [
      "tf.Tensor(\n",
      "[[1 1 1]\n",
      " [1 1 1]], shape=(2, 3), dtype=int32)\n"
     ]
    },
    {
     "data": {
      "text/plain": [
       "6"
      ]
     },
     "execution_count": 47,
     "metadata": {},
     "output_type": "execute_result"
    }
   ],
   "source": [
    "# reduce along both dimensions\n",
    "# the result is 1 + 1 + 1 + 1 + 1 + 1 = 6\n",
    "# or, equivalently, reduce along rows, then reduce the resultant array\n",
    "# [1, 1, 1] + [1, 1, 1] = [2, 2, 2]\n",
    "# 2 + 2 + 2 = 6\n",
    "print(x)\n",
    "tf.reduce_sum(x, [0, 1]).numpy()\n"
   ]
  },
  {
   "cell_type": "code",
   "execution_count": 48,
   "metadata": {},
   "outputs": [
    {
     "data": {
      "text/plain": [
       "array([[1, 1, 1, 1],\n",
       "       [1, 1, 1, 1],\n",
       "       [1, 1, 1, 1]])"
      ]
     },
     "execution_count": 48,
     "metadata": {},
     "output_type": "execute_result"
    }
   ],
   "source": [
    "y = tf.constant([\n",
    "    [1, 1, 1, 1],\n",
    "    [1, 1, 1, 1],\n",
    "    [1, 1, 1, 1]\n",
    "    ])\n",
    "y.numpy()"
   ]
  },
  {
   "cell_type": "code",
   "execution_count": 49,
   "metadata": {},
   "outputs": [
    {
     "data": {
      "text/plain": [
       "array([3, 3, 3, 3])"
      ]
     },
     "execution_count": 49,
     "metadata": {},
     "output_type": "execute_result"
    }
   ],
   "source": [
    "# เอาทุกแถวมารวมกัน คงคอลั่มไว้\n",
    "tf.reduce_sum(y, 0).numpy()"
   ]
  },
  {
   "cell_type": "code",
   "execution_count": 50,
   "metadata": {},
   "outputs": [
    {
     "data": {
      "text/plain": [
       "array([4, 4, 4])"
      ]
     },
     "execution_count": 50,
     "metadata": {},
     "output_type": "execute_result"
    }
   ],
   "source": [
    "# เอาทุกคอลั่มมาบวกกัน คงแถวไว้\n",
    "tf.reduce_sum(y, 1).numpy()"
   ]
  },
  {
   "cell_type": "code",
   "execution_count": 51,
   "metadata": {},
   "outputs": [
    {
     "data": {
      "text/plain": [
       "12"
      ]
     },
     "execution_count": 51,
     "metadata": {},
     "output_type": "execute_result"
    }
   ],
   "source": [
    "tf.reduce_sum(y, [0, 1]).numpy()"
   ]
  },
  {
   "cell_type": "code",
   "execution_count": 52,
   "metadata": {},
   "outputs": [
    {
     "data": {
      "text/plain": [
       "TensorShape([2, 3, 4])"
      ]
     },
     "execution_count": 52,
     "metadata": {},
     "output_type": "execute_result"
    }
   ],
   "source": [
    "z = tf.constant(\n",
    "    [\n",
    "        [\n",
    "            [1, 2, 3, 1], [2, 1, 3, 4], [3, 5, 1, 1]\n",
    "        ],\n",
    "        [\n",
    "            [1, 2, 3, 4], [2, 1, 5, 4], [3, 1, 1, 1]\n",
    "        ]\n",
    "    ]\n",
    ")\n",
    "z.shape"
   ]
  },
  {
   "cell_type": "code",
   "execution_count": 62,
   "metadata": {},
   "outputs": [
    {
     "name": "stdout",
     "output_type": "stream",
     "text": [
      "(3, 4)\n",
      "[[2 4 6 5]\n",
      " [4 2 8 8]\n",
      " [6 6 2 2]]\n"
     ]
    }
   ],
   "source": [
    "# ทำ axis ไหน จะหายไป โดยจะเหลือ axis อื่นไว้\n",
    "print(tf.reduce_sum(z, axis=0).numpy().shape)\n",
    "print(tf.reduce_sum(z, axis=0).numpy())"
   ]
  },
  {
   "cell_type": "code",
   "execution_count": 65,
   "metadata": {},
   "outputs": [
    {
     "name": "stdout",
     "output_type": "stream",
     "text": [
      "(2, 4)\n",
      "[[6 8 7 6]\n",
      " [6 4 9 9]]\n"
     ]
    }
   ],
   "source": [
    "print(tf.reduce_sum(z, axis=1).numpy().shape)\n",
    "print(tf.reduce_sum(z, axis=1).numpy())"
   ]
  },
  {
   "cell_type": "code",
   "execution_count": 60,
   "metadata": {},
   "outputs": [
    {
     "name": "stdout",
     "output_type": "stream",
     "text": [
      "(2, 3)\n",
      "[[ 7 10 10]\n",
      " [10 12  6]]\n"
     ]
    }
   ],
   "source": [
    "print(tf.reduce_sum(z, axis=2).numpy().shape)\n",
    "print(tf.reduce_sum(z, axis=2).numpy())"
   ]
  },
  {
   "cell_type": "code",
   "execution_count": 63,
   "metadata": {},
   "outputs": [
    {
     "data": {
      "text/plain": [
       "TensorShape([2, 3, 4])"
      ]
     },
     "execution_count": 63,
     "metadata": {},
     "output_type": "execute_result"
    }
   ],
   "source": [
    "z = tf.constant(\n",
    "    [\n",
    "        [\n",
    "            [1, 2, 3, 1], [2, 1, 3, 4], [3, 5, 1, 1]\n",
    "        ],\n",
    "        [\n",
    "            [1, 2, 3, 4], [2, 1, 5, 4], [3, 1, 1, 1]\n",
    "        ]\n",
    "    ]\n",
    ")\n",
    "z.shape"
   ]
  },
  {
   "cell_type": "code",
   "execution_count": 64,
   "metadata": {},
   "outputs": [
    {
     "name": "stdout",
     "output_type": "stream",
     "text": [
      "(4,)\n",
      "[12 12 16 15]\n"
     ]
    }
   ],
   "source": [
    "# ทำทีละช่องเริ่มจาก axis 0 ก่อน\n",
    "# แล้วค่อยทำ axis 1 ซึ่งจะมองเป็น axis 0\n",
    "print(tf.reduce_sum(z, axis=[0, 1]).numpy().shape)\n",
    "print(tf.reduce_sum(z, axis=[0, 1]).numpy())"
   ]
  }
 ],
 "metadata": {
  "kernelspec": {
   "display_name": "Python 3.9.12 ('gpu-gan')",
   "language": "python",
   "name": "python3"
  },
  "language_info": {
   "codemirror_mode": {
    "name": "ipython",
    "version": 3
   },
   "file_extension": ".py",
   "mimetype": "text/x-python",
   "name": "python",
   "nbconvert_exporter": "python",
   "pygments_lexer": "ipython3",
   "version": "3.9.12"
  },
  "orig_nbformat": 4,
  "vscode": {
   "interpreter": {
    "hash": "b06aa430c4fb633b1dd0a1a893f1bc87d8421f34b3777c6b5eb422d863f7be59"
   }
  }
 },
 "nbformat": 4,
 "nbformat_minor": 2
}
