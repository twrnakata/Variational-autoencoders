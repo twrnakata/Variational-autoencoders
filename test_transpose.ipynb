{
 "cells": [
  {
   "cell_type": "code",
   "execution_count": 22,
   "metadata": {},
   "outputs": [],
   "source": [
    "import numpy as np\n",
    "import tensorflow as tf\n",
    "from tensorflow import keras\n",
    "from tensorflow.keras import layers\n"
   ]
  },
  {
   "cell_type": "code",
   "execution_count": 23,
   "metadata": {},
   "outputs": [
    {
     "name": "stdout",
     "output_type": "stream",
     "text": [
      "(None, 14, 14, 32)\n"
     ]
    }
   ],
   "source": [
    "inputs = keras.Input(shape=(28, 28, 1), name = 'input')\n",
    "conLayer = layers.Conv2D(filters=32, kernel_size=(2, 2), strides=(2, 2), padding='valid')(inputs)\n",
    "\n",
    "print(conLayer.shape)"
   ]
  },
  {
   "cell_type": "code",
   "execution_count": 24,
   "metadata": {},
   "outputs": [
    {
     "name": "stdout",
     "output_type": "stream",
     "text": [
      "Model: \"model_10\"\n",
      "_________________________________________________________________\n",
      " Layer (type)                Output Shape              Param #   \n",
      "=================================================================\n",
      " input (InputLayer)          [(None, 28, 28, 1)]       0         \n",
      "                                                                 \n",
      " conv2d_12 (Conv2D)          (None, 14, 14, 32)        160       \n",
      "                                                                 \n",
      "=================================================================\n",
      "Total params: 160\n",
      "Trainable params: 160\n",
      "Non-trainable params: 0\n",
      "_________________________________________________________________\n"
     ]
    }
   ],
   "source": [
    "model = keras.Model(inputs, conLayer)\n",
    "model.summary()"
   ]
  },
  {
   "cell_type": "markdown",
   "metadata": {},
   "source": [
    "UpSampling2D non-train"
   ]
  },
  {
   "cell_type": "code",
   "execution_count": 25,
   "metadata": {},
   "outputs": [
    {
     "name": "stdout",
     "output_type": "stream",
     "text": [
      "Model: \"model_11\"\n",
      "_________________________________________________________________\n",
      " Layer (type)                Output Shape              Param #   \n",
      "=================================================================\n",
      " input (InputLayer)          [(None, 28, 28, 1)]       0         \n",
      "                                                                 \n",
      " conv2d_13 (Conv2D)          (None, 14, 14, 32)        160       \n",
      "                                                                 \n",
      " up_sampling2d_3 (UpSampling  (None, 28, 28, 32)       0         \n",
      " 2D)                                                             \n",
      "                                                                 \n",
      "=================================================================\n",
      "Total params: 160\n",
      "Trainable params: 160\n",
      "Non-trainable params: 0\n",
      "_________________________________________________________________\n"
     ]
    }
   ],
   "source": [
    "inputs = keras.Input(shape=(28, 28, 1), name = 'input')\n",
    "\n",
    "conLayer = layers.Conv2D(filters=32, kernel_size=(2, 2), strides=(2, 2), padding='valid')(inputs)\n",
    "upLayer = layers.UpSampling2D(size=(2, 2))(conLayer)\n",
    "\n",
    "model = keras.Model(inputs, upLayer)\n",
    "model.summary()"
   ]
  },
  {
   "cell_type": "markdown",
   "metadata": {},
   "source": [
    "UpSampling2D train"
   ]
  },
  {
   "cell_type": "code",
   "execution_count": 33,
   "metadata": {},
   "outputs": [
    {
     "name": "stdout",
     "output_type": "stream",
     "text": [
      "Model: \"model_19\"\n",
      "_________________________________________________________________\n",
      " Layer (type)                Output Shape              Param #   \n",
      "=================================================================\n",
      " input (InputLayer)          [(None, 28, 28, 1)]       0         \n",
      "                                                                 \n",
      " conv2d_27 (Conv2D)          (None, 14, 14, 32)        160       \n",
      "                                                                 \n",
      " up_sampling2d_15 (UpSamplin  (None, 28, 28, 32)       0         \n",
      " g2D)                                                            \n",
      "                                                                 \n",
      " conv2d_28 (Conv2D)          (None, 14, 14, 32)        4128      \n",
      "                                                                 \n",
      " up_sampling2d_16 (UpSamplin  (None, 28, 28, 32)       0         \n",
      " g2D)                                                            \n",
      "                                                                 \n",
      "=================================================================\n",
      "Total params: 4,288\n",
      "Trainable params: 4,288\n",
      "Non-trainable params: 0\n",
      "_________________________________________________________________\n"
     ]
    }
   ],
   "source": [
    "inputs = keras.Input(shape=(28, 28, 1), name = 'input')\n",
    "conLayer = layers.Conv2D(filters=32, kernel_size=(2, 2), strides=(2, 2), padding='valid')(inputs)\n",
    "\n",
    "upLayer = layers.UpSampling2D(size=(2, 2))(conLayer)\n",
    "conLayer = layers.Conv2D(filters=32, kernel_size=(2, 2), strides=(2, 2), padding='valid')(upLayer)\n",
    "upLayer = layers.UpSampling2D(size=(2, 2))(conLayer)\n",
    "\n",
    "model = keras.Model(inputs, upLayer)\n",
    "model.summary()"
   ]
  },
  {
   "cell_type": "markdown",
   "metadata": {},
   "source": [
    "Conv2DTranspose"
   ]
  },
  {
   "cell_type": "code",
   "execution_count": 27,
   "metadata": {},
   "outputs": [
    {
     "name": "stdout",
     "output_type": "stream",
     "text": [
      "Model: \"model_13\"\n",
      "_________________________________________________________________\n",
      " Layer (type)                Output Shape              Param #   \n",
      "=================================================================\n",
      " input (InputLayer)          [(None, 28, 28, 1)]       0         \n",
      "                                                                 \n",
      " conv2d_16 (Conv2D)          (None, 14, 14, 32)        160       \n",
      "                                                                 \n",
      " conv2d_transpose_2 (Conv2DT  (None, 28, 28, 32)       4128      \n",
      " ranspose)                                                       \n",
      "                                                                 \n",
      "=================================================================\n",
      "Total params: 4,288\n",
      "Trainable params: 4,288\n",
      "Non-trainable params: 0\n",
      "_________________________________________________________________\n"
     ]
    }
   ],
   "source": [
    "inputs = keras.Input(shape=(28, 28, 1), name = 'input')\n",
    "\n",
    "conLayer = layers.Conv2D(filters=32, kernel_size=(2, 2), strides=(2, 2), padding='valid')(inputs)\n",
    "transLayer = layers.Conv2DTranspose(filters=32, kernel_size=(2, 2), strides=(2, 2), padding='valid')(conLayer)\n",
    "\n",
    "model = keras.Model(inputs, transLayer)\n",
    "model.summary()"
   ]
  },
  {
   "cell_type": "code",
   "execution_count": null,
   "metadata": {},
   "outputs": [],
   "source": []
  }
 ],
 "metadata": {
  "kernelspec": {
   "display_name": "Python 3.9.12 ('gpu-gan')",
   "language": "python",
   "name": "python3"
  },
  "language_info": {
   "codemirror_mode": {
    "name": "ipython",
    "version": 3
   },
   "file_extension": ".py",
   "mimetype": "text/x-python",
   "name": "python",
   "nbconvert_exporter": "python",
   "pygments_lexer": "ipython3",
   "version": "3.9.12"
  },
  "orig_nbformat": 4,
  "vscode": {
   "interpreter": {
    "hash": "b06aa430c4fb633b1dd0a1a893f1bc87d8421f34b3777c6b5eb422d863f7be59"
   }
  }
 },
 "nbformat": 4,
 "nbformat_minor": 2
}
